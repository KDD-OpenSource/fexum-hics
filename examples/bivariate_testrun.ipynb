{
 "cells": [
  {
   "cell_type": "code",
   "execution_count": null,
   "metadata": {
    "collapsed": false
   },
   "outputs": [],
   "source": [
    "%load_ext autoreload\n",
    "%autoreload 2"
   ]
  },
  {
   "cell_type": "code",
   "execution_count": null,
   "metadata": {
    "collapsed": false
   },
   "outputs": [],
   "source": [
    "import numpy as np\n",
    "import pandas as pd\n",
    "import json\n",
    "from hics.bivariate_correlation import IncrementalBivariateCorrelation\n",
    "from time import clock"
   ]
  },
  {
   "cell_type": "code",
   "execution_count": null,
   "metadata": {
    "collapsed": true
   },
   "outputs": [],
   "source": [
    "def callback(relevancies, redundancies, feature_slices):\n",
    "    print('relevancies: \\n', relevancies, '\\n')\n",
    "    print('redundancies: \\n', redundancies.redundancy, '\\n')\n",
    "    print('weights: \\n', redundancies.weight, '\\n')\n",
    "    for feature, slices in feature_slices.items():\n",
    "        print('featureset:', feature)\n",
    "        current_slices = [{'feature' : name, 'slices' : df.transpose().to_dict()} \n",
    "                          for name, df in pd.concat([slices.categorical, slices.continuous]).iteritems()]\n",
    "        print(json.dumps(current_slices, indent=4)\n",
    "    print('\\n\\n\\n')"
   ]
  },
  {
   "cell_type": "code",
   "execution_count": null,
   "metadata": {
    "collapsed": false
   },
   "outputs": [],
   "source": [
    "dataset = '../data/mysynthetic.csv'\n",
    "data = pd.read_csv(dataset)\n",
    "correlation = IncrementalBivariateCorrelation(data, '0', iterations = 10, alpha = 0.1, drop_discrete = True)"
   ]
  },
  {
   "cell_type": "code",
   "execution_count": null,
   "metadata": {
    "collapsed": false
   },
   "outputs": [],
   "source": [
    "relevancies, redundancies, feature_slices = correlation.calculate_correlation(limit = 5, callback = callback)"
   ]
  }
 ],
 "metadata": {
  "kernelspec": {
   "display_name": "Python 3",
   "language": "python",
   "name": "python3"
  },
  "language_info": {
   "codemirror_mode": {
    "name": "ipython",
    "version": 3
   },
   "file_extension": ".py",
   "mimetype": "text/x-python",
   "name": "python",
   "nbconvert_exporter": "python",
   "pygments_lexer": "ipython3",
   "version": "3.4.3"
  }
 },
 "nbformat": 4,
 "nbformat_minor": 1
}
