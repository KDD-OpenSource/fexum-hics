{
 "cells": [
  {
   "cell_type": "code",
   "execution_count": 1,
   "metadata": {
    "collapsed": true
   },
   "outputs": [],
   "source": [
    "%load_ext autoreload\n",
    "%autoreload 2"
   ]
  },
  {
   "cell_type": "code",
   "execution_count": 2,
   "metadata": {
    "collapsed": false
   },
   "outputs": [],
   "source": [
    "import pandas as pd\n",
    "import numpy as np\n",
    "from hics.incremental_correlation import IncrementalCorrelation\n",
    "from hics.result_storage import DefaultResultStorage"
   ]
  },
  {
   "cell_type": "code",
   "execution_count": 3,
   "metadata": {
    "collapsed": true
   },
   "outputs": [],
   "source": [
    "data = pd.read_csv('../data/mysynthetic.csv')"
   ]
  },
  {
   "cell_type": "code",
   "execution_count": 193,
   "metadata": {
    "collapsed": true
   },
   "outputs": [],
   "source": [
    "target = '0'\n",
    "input_features = [ft for ft in data.columns.values if ft != target]\n",
    "storage = DefaultResultStorage(input_features)\n",
    "correlation = IncrementalCorrelation(data, target, storage, iterations = 10, alpha = 0.1, drop_discrete = False)"
   ]
  },
  {
   "cell_type": "code",
   "execution_count": 194,
   "metadata": {
    "collapsed": false
   },
   "outputs": [],
   "source": [
    "correlation.update_bivariate_relevancies(runs = 10)"
   ]
  },
  {
   "cell_type": "code",
   "execution_count": 195,
   "metadata": {
    "collapsed": false
   },
   "outputs": [],
   "source": [
    "correlation.update_redundancies(k = 5, runs = 10)"
   ]
  },
  {
   "cell_type": "code",
   "execution_count": 196,
   "metadata": {
    "collapsed": false
   },
   "outputs": [],
   "source": [
    "correlation.update_multivariate_relevancies(k = 2, runs = 5)"
   ]
  },
  {
   "cell_type": "code",
   "execution_count": 197,
   "metadata": {
    "collapsed": false
   },
   "outputs": [
    {
     "name": "stdout",
     "output_type": "stream",
     "text": [
      "            relevancy  iteration  relevancies\n",
      "[\"1\"]             0.0       10.0     0.488712\n",
      "[\"2\"]             0.0       11.0     0.000000\n",
      "[\"3\"]             0.0       10.0     0.113473\n",
      "[\"4\"]             0.0       10.0     0.000203\n",
      "[\"5\"]             0.0       12.0     0.000002\n",
      "[\"6\"]             0.0       10.0     0.000174\n",
      "[\"7\"]             0.0       10.0     0.000127\n",
      "[\"8\"]             0.0       10.0     0.000115\n",
      "[\"9\"]             0.0       11.0     0.000006\n",
      "[\"7\", \"9\"]        0.0        1.0     0.000062\n"
     ]
    }
   ],
   "source": [
    "print(storage.relevancies)"
   ]
  },
  {
   "cell_type": "code",
   "execution_count": 198,
   "metadata": {
    "collapsed": false
   },
   "outputs": [
    {
     "name": "stdout",
     "output_type": "stream",
     "text": [
      "          1         2         3         4         5         6         7  \\\n",
      "1  0.000000  0.071122  0.000000  0.000000  0.000000  0.000000  0.000000   \n",
      "2  0.071122  0.000000  0.000000  0.000000  0.023733  0.071122  0.035566   \n",
      "3  0.000000  0.000000  0.000000  0.000024  0.000000  0.000048  0.000000   \n",
      "4  0.000000  0.000000  0.000024  0.000000  0.000000  0.000000  0.000010   \n",
      "5  0.000000  0.023733  0.000000  0.000000  0.000000  0.000000  0.000005   \n",
      "6  0.000000  0.071122  0.000048  0.000000  0.000000  0.000000  0.000000   \n",
      "7  0.000000  0.035566  0.000000  0.000010  0.000005  0.000000  0.000000   \n",
      "8  0.000000  0.000000  0.000024  0.000000  0.000000  0.000000  0.000010   \n",
      "9  0.000000  0.000078  0.000008  0.000000  0.000000  0.000000  0.000005   \n",
      "\n",
      "          8         9  \n",
      "1  0.000000  0.000000  \n",
      "2  0.000000  0.000078  \n",
      "3  0.000024  0.000008  \n",
      "4  0.000000  0.000000  \n",
      "5  0.000000  0.000000  \n",
      "6  0.000000  0.000000  \n",
      "7  0.000010  0.000005  \n",
      "8  0.000000  0.000000  \n",
      "9  0.000000  0.000000  \n",
      "   1  2  3  4  5  6  7  8  9\n",
      "1  0  1  0  0  0  0  0  0  2\n",
      "2  1  0  0  0  3  1  2  0  1\n",
      "3  0  0  0  1  1  2  0  1  3\n",
      "4  0  0  1  0  2  1  1  1  3\n",
      "5  0  3  1  2  0  0  2  0  1\n",
      "6  0  1  2  1  0  0  0  0  0\n",
      "7  0  2  0  1  2  0  0  1  2\n",
      "8  0  0  1  1  0  0  1  0  1\n",
      "9  2  1  3  3  1  0  2  1  0\n"
     ]
    }
   ],
   "source": [
    "print(storage.redundancies.redundancy)\n",
    "print(storage.redundancies.weight)"
   ]
  },
  {
   "cell_type": "code",
   "execution_count": null,
   "metadata": {
    "collapsed": true
   },
   "outputs": [],
   "source": []
  }
 ],
 "metadata": {
  "kernelspec": {
   "display_name": "Python 3",
   "language": "python",
   "name": "python3"
  },
  "language_info": {
   "codemirror_mode": {
    "name": "ipython",
    "version": 3
   },
   "file_extension": ".py",
   "mimetype": "text/x-python",
   "name": "python",
   "nbconvert_exporter": "python",
   "pygments_lexer": "ipython3",
   "version": "3.4.3"
  }
 },
 "nbformat": 4,
 "nbformat_minor": 1
}
