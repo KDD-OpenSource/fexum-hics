{
 "cells": [
  {
   "cell_type": "markdown",
   "metadata": {},
   "source": [
    "Given a feature set $F = \\{f_1, ..., f_d\\}$ and $k \\in \\mathbb{N}$ where $k$ is the number of iterations to run."
   ]
  },
  {
   "cell_type": "code",
   "execution_count": 10,
   "metadata": {
    "collapsed": false
   },
   "outputs": [],
   "source": [
    "for k times:\n",
    "    S = pick_random_subset(F)\n",
    "    f = pick_random_feature(F \\ S)\n",
    "\n",
    "    # Contrast between S and f is proportional to its redundancy\n",
    "    score = contrast(S, f)\n",
    "\n",
    "    for i in S:  \n",
    "        # For all contrast(S, f) with i in S, j equal to f, \n",
    "        # contrast({i}, j) <= contrast(S, f) <-> \n",
    "        # \"Adding an element to the subset can only increase redundancy\"\n",
    "        redundancy[{f, i}] = min(score, redundancy[{f, i}])"
   ]
  },
  {
   "cell_type": "markdown",
   "metadata": {},
   "source": [
    "To give an example let us consider $F = \\{f_1, f_2, f_3, f_4\\}$, where we would like to determine the redundancy of $f_1$ to $f_2$.\n",
    "\n",
    "Assuming that the configurations $(S, f_1)$ contained the subsets\n",
    "$S_1 = \\{f_2, f_3\\}, S_2 = \\{f_2, f_4\\}$,  \n",
    "and that $f_3$ is redundant to $f_1$ but irredundant to $f_2$, $f_4$ is irredundant to $f_1$.\n",
    "\n",
    "Scoring $(S_1, f_1)$ will overestimate redundancy of $\\{f_1, f_2\\}$, as $f_3$ supplies\n",
    "additional information about $f_1$ compared to $f_2$ alone.  \n",
    "Scoring $(S_2, f_1)$ will exactly equal the redundancy of $\\{f_1, f_2\\}$, as $f_4$ does\n",
    "not contain any information pertaining to $f_1$\n",
    "\n",
    "As a result, our algorithm will slightly overestimate redundancy,\n",
    "but will arrive at the correct result without fail given a certain amount of iterations.\n", 
    "To be more specific, the score will be correct once an iteration has a set $S' = S \\setminus \\{f_2\\}$\n", 
    "where each element of $S'$ is either completely redundant to $f_2$ or irredundant to $f_1$.\n", 
    "Therefore, runtime will largely depend on the individual dataset, although an approximation running for a\n",
    "predetermined amount of iterations $k$ will be sufficient in most cases."
   ]
  }
 ],
 "metadata": {
  "kernelspec": {
   "display_name": "Python 3",
   "language": "python",
   "name": "python3"
  },
  "language_info": {
   "codemirror_mode": {
    "name": "ipython",
    "version": 3
   },
   "file_extension": ".py",
   "mimetype": "text/x-python",
   "name": "python",
   "nbconvert_exporter": "python",
   "pygments_lexer": "ipython3",
   "version": "3.6.0"
  }
 },
 "nbformat": 4,
 "nbformat_minor": 2
}
